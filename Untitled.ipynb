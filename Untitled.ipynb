{
 "cells": [
  {
   "cell_type": "markdown",
   "metadata": {},
   "source": [
    "# Types of Distributions \n",
    "https://www.causascientia.org/math_stat/Dists/Compendium.pdf"
   ]
  },
  {
   "cell_type": "markdown",
   "metadata": {},
   "source": [
    "### Bernoulli\n",
    "\n",
    "The **Bernoulli distribution** represents two possible outcomes of an event (such as a coin flip). Summarized by _p_, the probability of the outcome _k_.\n",
    "\n",
    "The probability mass function for the Bernoulli distribution is:\n",
    "\n",
    "\n",
    "\\begin{equation}\n",
    "  f(k|p)=\\left\\{\n",
    "  \\begin{array}{@{}ll@{}}\n",
    "    p, & \\text{if}\\ k=1 \\\\\n",
    "    1-p, & \\text{if}\\ k=0\n",
    "  \\end{array}\\right.\n",
    "\\end{equation} \n",
    "\n",
    "\n",
    "Note that when a distribution is discrete (only takes integers), it has a probability _mass_ function, while a continuous distribution has a probability _density_ function."
   ]
  },
  {
   "cell_type": "code",
   "execution_count": 2,
   "metadata": {
    "collapsed": true
   },
   "outputs": [],
   "source": [
    "import numpy as np\n",
    "import pandas as pd\n",
    "import matplotlib.pyplot as plt\n",
    "%matplotlib inline"
   ]
  },
  {
   "cell_type": "code",
   "execution_count": 6,
   "metadata": {},
   "outputs": [
    {
     "data": {
      "image/png": "[encoded data removed]",
      "text/plain": [
       "<matplotlib.figure.Figure at 0xbec9d68>"
      ]
     },
     "metadata": {},
     "output_type": "display_data"
    }
   ],
   "source": [
    "# Generate a binomial distribution with n=20 and p=0.5.\n",
    "binomial = np.random.binomial(20, .5, 1000)\n",
    "\n",
    "# Plot a histogram.\n",
    "plt.hist(binomial)\n",
    "\n",
    "# Print the histogram.\n",
    "plt.show()"
   ]
  },
  {
   "cell_type": "markdown",
   "metadata": {},
   "source": [
    "### Gamma\n",
    "The **gamma distribution** represents the time until an event (such as lifespan until death), when the event starts out unlikely (few people die in youth), becomes more likely (more people die in old age), then becomes less likely again (few people die in extreme old age because most have already died).  Summarized by a shape parameter ($\\alpha$) and an inverse-scale parameter ($\\beta$). The probability density function is:\n",
    "\n",
    "\\begin{equation}\n",
    "f(x|\\alpha,\\beta)=\\frac{\\beta^\\alpha x^{\\alpha-1} e^{-x\\beta}} {\\Gamma(\\alpha)} \\text {for } x \\ge 0 \\text { and } \\alpha,\\beta \\ge0\n",
    "\\end{equation} "
   ]
  },
  {
   "cell_type": "code",
   "execution_count": 10,
   "metadata": {},
   "outputs": [
    {
     "data": {
      "image/png": "[encoded data removed]",
      "text/plain": [
       "<matplotlib.figure.Figure at 0xbf48eb8>"
      ]
     },
     "metadata": {},
     "output_type": "display_data"
    }
   ],
   "source": [
    "# Generate a gamma distribution with shape =5 and scale = 1\n",
    "gamma = np.random.gamma(5,.5, 1000)\n",
    "\n",
    "# Plot a histogram.\n",
    "plt.hist(gamma)\n",
    "\n",
    "# Print the histogram.\n",
    "plt.show()"
   ]
  },
  {
   "cell_type": "markdown",
   "metadata": {},
   "source": [
    "### Poisson\n",
    "\n",
    "The **poisson distribution** represents the number of times a given event (such as a phone call to a radio show) will occur during a given time interval.  Data can range from 0 (no phone calls during the time period) to approaching infinity (the phone never stopped ringing during the time period).  Summarized by $\\lambda$ (“lambda”), the rate that events occur during a given time period.  The probability mass function is:\n",
    "\n",
    "\\begin{equation}\n",
    "f(k|\\lambda)=\\frac{\\lambda^k e^{-\\lambda}}{k!}\n",
    "\\end{equation} "
   ]
  },
  {
   "cell_type": "code",
   "execution_count": 12,
   "metadata": {},
   "outputs": [
    {
     "data": {
      "image/png": "[encoded data removed]",
      "text/plain": [
       "<matplotlib.figure.Figure at 0xd3aa668>"
      ]
     },
     "metadata": {},
     "output_type": "display_data"
    }
   ],
   "source": [
    "# Generate a Poisson distribution with lambda = 3\n",
    "poisson = np.random.poisson(3, 1000)\n",
    "\n",
    "# Plot a histogram.\n",
    "plt.hist(poisson)\n",
    "\n",
    "# Print the histogram.\n",
    "plt.show()"
   ]
  },
  {
   "cell_type": "markdown",
   "metadata": {},
   "source": [
    "Identifying whether data has a distribution with known statistical properties requires visualizing the data through histograms and QQ plots, as well as knowing the source of the data (counts, probabilities, times, etc). When collecting and exploring new data as a data scientist you’ll make heavy use of visualizations like the ones we use above."
   ]
  },
  {
   "cell_type": "markdown",
   "metadata": {},
   "source": [
    "## Conditional Distribution\n",
    "\n",
    "Distributions can also be conditional. Consider an ecommerce site. For all of the customers, we  have a distribution of the amount that they have spent on the website. It may look something like this:"
   ]
  },
  {
   "cell_type": "code",
   "execution_count": 13,
   "metadata": {},
   "outputs": [
    {
     "data": {
      "image/png": "[encoded data removed]",
      "text/plain": [
       "<matplotlib.figure.Figure at 0xbf6c128>"
      ]
     },
     "metadata": {},
     "output_type": "display_data"
    }
   ],
   "source": [
    "# Creating a data frame to hold the simulated ecommerce data, and populating it with a\n",
    "# normally distributed variable with mean 75 and standard deviation 25.\n",
    "\n",
    "ecommerce = pd.DataFrame()\n",
    "ecommerce['spending'] = np.random.normal(75, 25, 1000)\n",
    "\n",
    "# Plot a histogram.\n",
    "plt.hist(ecommerce['spending'])\n",
    "plt.show()"
   ]
  },
  {
   "cell_type": "markdown",
   "metadata": {},
   "source": [
    "But let's say we're actually interested in a subset of that population, for instance visitors who visited the site more than twice. That data may look like this:"
   ]
  },
  {
   "cell_type": "code",
   "execution_count": 15,
   "metadata": {},
   "outputs": [
    {
     "data": {
      "image/png": "[encoded data removed]",
      "text/plain": [
       "<matplotlib.figure.Figure at 0xd5432b0>"
      ]
     },
     "metadata": {},
     "output_type": "display_data"
    }
   ],
   "source": [
    "# Adding a variable with counts of number of times visiting the site.\n",
    "ecommerce['visit_count'] = np.random.randint(0, 5, 1000)\n",
    "\n",
    "# Selecting only the cases where the visit count is greater than two and plotting those.\n",
    "plt.hist(ecommerce[ecommerce['visit_count'] > 2]['spending'])\n",
    "plt.show()"
   ]
  },
  {
   "cell_type": "code",
   "execution_count": null,
   "metadata": {
    "collapsed": true
   },
   "outputs": [],
   "source": []
  }
 ],
 "metadata": {
  "kernelspec": {
   "display_name": "Python [conda root]",
   "language": "python",
   "name": "conda-root-py"
  },
  "language_info": {
   "codemirror_mode": {
    "name": "ipython",
    "version": 2
   },
   "file_extension": ".py",
   "mimetype": "text/x-python",
   "name": "python",
   "nbconvert_exporter": "python",
   "pygments_lexer": "ipython2",
   "version": "2.7.13"
  }
 },
 "nbformat": 4,
 "nbformat_minor": 2
}
